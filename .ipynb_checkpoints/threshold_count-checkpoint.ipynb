{
 "cells": [
  {
   "cell_type": "markdown",
   "metadata": {},
   "source": [
    "### egg counting\n",
    "#### updated 2016.09.09\n",
    "##### bmatthews@rockefeller.edu"
   ]
  },
  {
   "cell_type": "code",
   "execution_count": 1,
   "metadata": {
    "collapsed": false
   },
   "outputs": [],
   "source": [
    "### need a few libraries\n",
    "import cv2\n",
    "import numpy as np\n",
    "import os\n",
    "import pandas as pd\n",
    "from numpy import unravel_index\n",
    "%matplotlib inline"
   ]
  },
  {
   "cell_type": "markdown",
   "metadata": {},
   "source": [
    "### define a directory containing handcounted images and a .csv file with the handcounts\n",
    "\n",
    "Load a list of all .png images (except those starting with THRESH)"
   ]
  },
  {
   "cell_type": "code",
   "execution_count": 2,
   "metadata": {
    "collapsed": false
   },
   "outputs": [],
   "source": [
    "test_dir = '/Users/ben/Dropbox/stephanie marcus rotation/Data/hand count/'\n",
    "os.chdir(test_dir)\n",
    "png_files = [f for f in os.listdir(test_dir) if (f.endswith('.png') and not f.startswith('THRESH'))]"
   ]
  },
  {
   "cell_type": "markdown",
   "metadata": {},
   "source": [
    "### define a dataframe to store our pixel counts and read in the hand counts"
   ]
  },
  {
   "cell_type": "code",
   "execution_count": 3,
   "metadata": {
    "collapsed": false
   },
   "outputs": [],
   "source": [
    "pixel_count = pd.DataFrame({'filename':png_files,'egg_pixels':[0] * len(png_files)}) \n",
    "handCount = pd.read_csv('hand.csv',header=None).transpose()\n",
    "handCount.columns = ['handCount','filename']\n",
    "pixel_count = pd.merge(handCount,pixel_count)\n"
   ]
  },
  {
   "cell_type": "code",
   "execution_count": 4,
   "metadata": {
    "collapsed": false
   },
   "outputs": [],
   "source": [
    "pixel_count = pixel_count.sort_values(by='filename')\n",
    "pixel_count.index = range(0,len(pixel_count))"
   ]
  },
  {
   "cell_type": "code",
   "execution_count": 5,
   "metadata": {
    "collapsed": false
   },
   "outputs": [],
   "source": [
    "im_array = np.array( [ cv2.cvtColor(cv2.imread(png_files[i]), cv2.COLOR_BGR2HSV) for i in range(len(png_files))] )\n",
    "\n",
    "#for input_file in png_files:\n",
    "#    all_img[input_file] = cv2.imread(input_file)"
   ]
  },
  {
   "cell_type": "code",
   "execution_count": 6,
   "metadata": {
    "collapsed": false
   },
   "outputs": [],
   "source": [
    "rsqMat = np.zeros((255,255,255))"
   ]
  },
  {
   "cell_type": "markdown",
   "metadata": {},
   "source": [
    "### Defining a set of arrays that represent the min/max filters for (H)ue, (S)aturation and (V)alue thresholding"
   ]
  },
  {
   "cell_type": "code",
   "execution_count": 7,
   "metadata": {
    "collapsed": false
   },
   "outputs": [],
   "source": [
    "## best @ 4:50pm: 60, 56, 189\n",
    "\n",
    "startA = 60\n",
    "startB = 60\n",
    "startC = 180\n",
    "rangeA = 40\n",
    "rangeB = 40\n",
    "rangeC = 40\n",
    "stepA = 2\n",
    "stepB = 2\n",
    "stepC = 2\n",
    "\n",
    "minList = [np.array([0, 0, 0],np.uint8)]\n",
    "maxList = [np.array([startA, startB, startC],np.uint8)]\n",
    "\n",
    "\n",
    "for curA in range(startA - round(rangeA/2),startA + round(rangeA/2), stepA):\n",
    "    for curB in range(startB - round(rangeA/2),startB + round(rangeB/2),stepB):\n",
    "        for curC in range(startC - round(rangeC/2),startC + round(rangeC/2),stepC):\n",
    "            maxList.append(np.array([curA, curB, curC],np.uint8))\n",
    "            \n",
    "minList = minList * len(maxList)\n"
   ]
  },
  {
   "cell_type": "markdown",
   "metadata": {},
   "source": [
    "#### going through our filtering arrays, updating results with the 'best' correlation coefficients"
   ]
  },
  {
   "cell_type": "code",
   "execution_count": 8,
   "metadata": {
    "collapsed": false
   },
   "outputs": [
    {
     "name": "stdout",
     "output_type": "stream",
     "text": [
      "new best R squared value is 0.450835928306 min: [0 0 0] max: [120 120 120]\n",
      "new best R squared value is 0.586220973132 min: [0 0 0] max: [ 20  20 160]\n",
      "new best R squared value is 0.631148171997 min: [0 0 0] max: [ 20  20 180]\n",
      "new best R squared value is 0.639242012191 min: [0 0 0] max: [ 20  40 180]\n",
      "new best R squared value is 0.668243372097 min: [0 0 0] max: [ 40  20 140]\n",
      "new best R squared value is 0.790845996597 min: [0 0 0] max: [ 40  20 160]\n",
      "new best R squared value is 0.847559879443 min: [0 0 0] max: [ 40  20 180]\n",
      "new best R squared value is 0.873610533437 min: [0 0 0] max: [ 40  40 180]\n",
      "new best R squared value is 0.888810854603 min: [0 0 0] max: [ 60  60 180]\n"
     ]
    }
   ],
   "source": [
    "WINNER = 0\n",
    "\n",
    "for EGG_MIN, EGG_MAX in zip(minList, maxList):\n",
    "    # if rsqMat[(EGG_MAX[0],EGG_MAX[1],EGG_MAX[2])] == 0.0:\n",
    "        #print('\\rtrying ' + str(EGG_MAX[0]) + \",\" + str(EGG_MAX[1]) + \",\" + str(EGG_MAX[2]))\n",
    "        \n",
    "        for i in range(len(png_files)):\n",
    "            frame_threshed = cv2.inRange(im_array[i], EGG_MIN, EGG_MAX)\n",
    "            pixel_count.loc[i,'egg_pixels'] = cv2.countNonZero(frame_threshed)\n",
    "            #print(pixel_count.loc[i])\n",
    "            #print(png_files[i])\n",
    "\n",
    "        corr = pixel_count['handCount'].apply(int).corr(pixel_count['egg_pixels'].apply(int))\n",
    "        \n",
    "        rsqMat[(EGG_MAX[0],EGG_MAX[1],EGG_MAX[2])] = (corr*corr)\n",
    "        \n",
    "        if(corr * corr > WINNER):\n",
    "            WINNER = corr * corr\n",
    "            print('new best R squared value is ' + str(corr * corr) + ' min: ' + str(EGG_MIN) + ' max: ' + str(EGG_MAX))"
   ]
  },
  {
   "cell_type": "code",
   "execution_count": 21,
   "metadata": {
    "collapsed": false
   },
   "outputs": [
    {
     "data": {
      "text/plain": [
       "0.90003000421971691"
      ]
     },
     "execution_count": 21,
     "metadata": {},
     "output_type": "execute_result"
    }
   ],
   "source": [
    "maxIndex = unravel_index(np.nanargmax(rsqMat), rsqMat.shape)\n",
    "rsqMat[maxIndex]"
   ]
  },
  {
   "cell_type": "code",
   "execution_count": 22,
   "metadata": {
    "collapsed": false
   },
   "outputs": [
    {
     "data": {
      "text/plain": [
       "(60, 57, 190)"
      ]
     },
     "execution_count": 22,
     "metadata": {},
     "output_type": "execute_result"
    }
   ],
   "source": [
    "maxIndex"
   ]
  },
  {
   "cell_type": "markdown",
   "metadata": {},
   "source": [
    "### Define the meat of this function by defining a function to process a whole directory of images\n",
    "#### run_directory() is a function that takes a list of image files and threshold min/max and does the thresholding and pixel counting, writing a .csv file in return"
   ]
  },
  {
   "cell_type": "code",
   "execution_count": null,
   "metadata": {
    "collapsed": false
   },
   "outputs": [],
   "source": [
    "def run_directory(png_files, EGG_MIN, EGG_MAX):\n",
    "    pixel_count = pd.DataFrame({'filename':png_files,'egg_pixels':[0] * len(png_files)}) \n",
    "    for input_file in png_files:\n",
    "        current_working = cv2.imread(input_file)\n",
    "        hsv = cv2.cvtColor(current_working, cv2.COLOR_BGR2HSV)\n",
    "        frame_threshed = cv2.inRange(hsv, EGG_MIN, EGG_MAX)\n",
    "        cv2.imwrite('THRESH_' + input_file, frame_threshed)\n",
    "        pixel_count.loc[pixel_count['filename'] == input_file,'egg_pixels'] = cv2.countNonZero(frame_threshed)\n",
    "    \n",
    "    pixel_count.to_csv('pixel_counts.csv')"
   ]
  },
  {
   "cell_type": "markdown",
   "metadata": {},
   "source": [
    "### Now we run some experimental images"
   ]
  },
  {
   "cell_type": "code",
   "execution_count": null,
   "metadata": {
    "collapsed": false
   },
   "outputs": [],
   "source": [
    "#EGG_MIN = np.array([0, 0, 0],np.uint8)\n",
    "#EGG_MAX = np.array([173, 46, 201],np.uint8)\n",
    "\n",
    "EGG_MIN = np.array([0, 0, 0],np.uint8)\n",
    "EGG_MAX = np.array([60, 56, 189],np.uint8)\n",
    "\n",
    "run_dirs = ['/Users/ben/Dropbox/stephanie marcus rotation/Data/hand count/']\n",
    "\n",
    "for test_dir in run_dirs:\n",
    "    os.chdir(test_dir)\n",
    "    png_files = [f for f in os.listdir(test_dir) if (f.endswith('.png') and not f.startswith('THRESH'))]\n",
    "    print('working on directory ' + test_dir + \":\\n\")\n",
    "    run_directory(png_files, EGG_MIN, EGG_MAX)"
   ]
  },
  {
   "cell_type": "code",
   "execution_count": 23,
   "metadata": {
    "collapsed": false
   },
   "outputs": [
    {
     "data": {
      "text/html": [
       "<div>\n",
       "<table border=\"1\" class=\"dataframe\">\n",
       "  <thead>\n",
       "    <tr style=\"text-align: right;\">\n",
       "      <th></th>\n",
       "      <th>handCount</th>\n",
       "      <th>filename</th>\n",
       "      <th>egg_pixels</th>\n",
       "    </tr>\n",
       "  </thead>\n",
       "  <tbody>\n",
       "    <tr>\n",
       "      <th>0</th>\n",
       "      <td>38</td>\n",
       "      <td>1.png</td>\n",
       "      <td>696</td>\n",
       "    </tr>\n",
       "    <tr>\n",
       "      <th>1</th>\n",
       "      <td>78</td>\n",
       "      <td>10.png</td>\n",
       "      <td>1416</td>\n",
       "    </tr>\n",
       "    <tr>\n",
       "      <th>2</th>\n",
       "      <td>59</td>\n",
       "      <td>11.png</td>\n",
       "      <td>1284</td>\n",
       "    </tr>\n",
       "    <tr>\n",
       "      <th>3</th>\n",
       "      <td>80</td>\n",
       "      <td>12.png</td>\n",
       "      <td>1663</td>\n",
       "    </tr>\n",
       "    <tr>\n",
       "      <th>4</th>\n",
       "      <td>47</td>\n",
       "      <td>13.png</td>\n",
       "      <td>993</td>\n",
       "    </tr>\n",
       "    <tr>\n",
       "      <th>5</th>\n",
       "      <td>72</td>\n",
       "      <td>14.png</td>\n",
       "      <td>1200</td>\n",
       "    </tr>\n",
       "    <tr>\n",
       "      <th>6</th>\n",
       "      <td>49</td>\n",
       "      <td>15.png</td>\n",
       "      <td>777</td>\n",
       "    </tr>\n",
       "    <tr>\n",
       "      <th>7</th>\n",
       "      <td>67</td>\n",
       "      <td>16.png</td>\n",
       "      <td>1528</td>\n",
       "    </tr>\n",
       "    <tr>\n",
       "      <th>8</th>\n",
       "      <td>92</td>\n",
       "      <td>17.png</td>\n",
       "      <td>1726</td>\n",
       "    </tr>\n",
       "    <tr>\n",
       "      <th>9</th>\n",
       "      <td>30</td>\n",
       "      <td>18.png</td>\n",
       "      <td>825</td>\n",
       "    </tr>\n",
       "    <tr>\n",
       "      <th>10</th>\n",
       "      <td>67</td>\n",
       "      <td>19.png</td>\n",
       "      <td>1717</td>\n",
       "    </tr>\n",
       "    <tr>\n",
       "      <th>11</th>\n",
       "      <td>64</td>\n",
       "      <td>2.png</td>\n",
       "      <td>1304</td>\n",
       "    </tr>\n",
       "    <tr>\n",
       "      <th>12</th>\n",
       "      <td>96</td>\n",
       "      <td>20.png</td>\n",
       "      <td>1968</td>\n",
       "    </tr>\n",
       "    <tr>\n",
       "      <th>13</th>\n",
       "      <td>0</td>\n",
       "      <td>2016-lvp-tray1-a1.png</td>\n",
       "      <td>38</td>\n",
       "    </tr>\n",
       "    <tr>\n",
       "      <th>14</th>\n",
       "      <td>67</td>\n",
       "      <td>2016-lvp-tray1-a2.png</td>\n",
       "      <td>1691</td>\n",
       "    </tr>\n",
       "    <tr>\n",
       "      <th>15</th>\n",
       "      <td>70</td>\n",
       "      <td>2016-lvp-tray1-a3.png</td>\n",
       "      <td>1291</td>\n",
       "    </tr>\n",
       "    <tr>\n",
       "      <th>16</th>\n",
       "      <td>0</td>\n",
       "      <td>2016-lvp-tray1-a4.png</td>\n",
       "      <td>47</td>\n",
       "    </tr>\n",
       "    <tr>\n",
       "      <th>17</th>\n",
       "      <td>97</td>\n",
       "      <td>2016-lvp-tray1-b1.png</td>\n",
       "      <td>2368</td>\n",
       "    </tr>\n",
       "    <tr>\n",
       "      <th>18</th>\n",
       "      <td>0</td>\n",
       "      <td>2016-lvp-tray1-b2.png</td>\n",
       "      <td>14</td>\n",
       "    </tr>\n",
       "    <tr>\n",
       "      <th>19</th>\n",
       "      <td>0</td>\n",
       "      <td>2016-lvp-tray1-b3.png</td>\n",
       "      <td>129</td>\n",
       "    </tr>\n",
       "    <tr>\n",
       "      <th>20</th>\n",
       "      <td>94</td>\n",
       "      <td>2016-lvp-tray1-b4.png</td>\n",
       "      <td>2127</td>\n",
       "    </tr>\n",
       "    <tr>\n",
       "      <th>21</th>\n",
       "      <td>0</td>\n",
       "      <td>2016-lvp-tray2-g1.png</td>\n",
       "      <td>792</td>\n",
       "    </tr>\n",
       "    <tr>\n",
       "      <th>22</th>\n",
       "      <td>90</td>\n",
       "      <td>2016-lvp-tray4-c4.png</td>\n",
       "      <td>1485</td>\n",
       "    </tr>\n",
       "    <tr>\n",
       "      <th>23</th>\n",
       "      <td>105</td>\n",
       "      <td>20160920-4f1.png</td>\n",
       "      <td>2110</td>\n",
       "    </tr>\n",
       "    <tr>\n",
       "      <th>24</th>\n",
       "      <td>19</td>\n",
       "      <td>20161006-3c1.png</td>\n",
       "      <td>371</td>\n",
       "    </tr>\n",
       "    <tr>\n",
       "      <th>25</th>\n",
       "      <td>37</td>\n",
       "      <td>20161007-1d4.png</td>\n",
       "      <td>637</td>\n",
       "    </tr>\n",
       "    <tr>\n",
       "      <th>26</th>\n",
       "      <td>39</td>\n",
       "      <td>20161025-4c3.png</td>\n",
       "      <td>511</td>\n",
       "    </tr>\n",
       "    <tr>\n",
       "      <th>27</th>\n",
       "      <td>76</td>\n",
       "      <td>20161027-2f1.png</td>\n",
       "      <td>1124</td>\n",
       "    </tr>\n",
       "    <tr>\n",
       "      <th>28</th>\n",
       "      <td>17</td>\n",
       "      <td>20161028-6d2.png</td>\n",
       "      <td>261</td>\n",
       "    </tr>\n",
       "    <tr>\n",
       "      <th>29</th>\n",
       "      <td>0</td>\n",
       "      <td>20161031-1a2.png</td>\n",
       "      <td>0</td>\n",
       "    </tr>\n",
       "    <tr>\n",
       "      <th>30</th>\n",
       "      <td>31</td>\n",
       "      <td>20161031-1a3.png</td>\n",
       "      <td>497</td>\n",
       "    </tr>\n",
       "    <tr>\n",
       "      <th>31</th>\n",
       "      <td>22</td>\n",
       "      <td>20161031-1a4.png</td>\n",
       "      <td>318</td>\n",
       "    </tr>\n",
       "    <tr>\n",
       "      <th>32</th>\n",
       "      <td>91</td>\n",
       "      <td>20161031-1b1.png</td>\n",
       "      <td>1887</td>\n",
       "    </tr>\n",
       "    <tr>\n",
       "      <th>33</th>\n",
       "      <td>0</td>\n",
       "      <td>20161031-1b2.png</td>\n",
       "      <td>0</td>\n",
       "    </tr>\n",
       "    <tr>\n",
       "      <th>34</th>\n",
       "      <td>0</td>\n",
       "      <td>20161031-1b3.png</td>\n",
       "      <td>0</td>\n",
       "    </tr>\n",
       "    <tr>\n",
       "      <th>35</th>\n",
       "      <td>62</td>\n",
       "      <td>20161031-1c1.png</td>\n",
       "      <td>871</td>\n",
       "    </tr>\n",
       "    <tr>\n",
       "      <th>36</th>\n",
       "      <td>0</td>\n",
       "      <td>20161031-1c2.png</td>\n",
       "      <td>0</td>\n",
       "    </tr>\n",
       "    <tr>\n",
       "      <th>37</th>\n",
       "      <td>65</td>\n",
       "      <td>20161031-1c3.png</td>\n",
       "      <td>943</td>\n",
       "    </tr>\n",
       "    <tr>\n",
       "      <th>38</th>\n",
       "      <td>0</td>\n",
       "      <td>20161031-1c4.png</td>\n",
       "      <td>0</td>\n",
       "    </tr>\n",
       "    <tr>\n",
       "      <th>39</th>\n",
       "      <td>95</td>\n",
       "      <td>20161031-1d1.png</td>\n",
       "      <td>1917</td>\n",
       "    </tr>\n",
       "    <tr>\n",
       "      <th>40</th>\n",
       "      <td>86</td>\n",
       "      <td>20161105-4a2.png</td>\n",
       "      <td>870</td>\n",
       "    </tr>\n",
       "    <tr>\n",
       "      <th>41</th>\n",
       "      <td>52</td>\n",
       "      <td>20161108-3f4.png</td>\n",
       "      <td>738</td>\n",
       "    </tr>\n",
       "    <tr>\n",
       "      <th>42</th>\n",
       "      <td>14</td>\n",
       "      <td>20162010-6c3.png</td>\n",
       "      <td>269</td>\n",
       "    </tr>\n",
       "    <tr>\n",
       "      <th>43</th>\n",
       "      <td>43</td>\n",
       "      <td>3.png</td>\n",
       "      <td>721</td>\n",
       "    </tr>\n",
       "    <tr>\n",
       "      <th>44</th>\n",
       "      <td>71</td>\n",
       "      <td>4.png</td>\n",
       "      <td>1533</td>\n",
       "    </tr>\n",
       "    <tr>\n",
       "      <th>45</th>\n",
       "      <td>64</td>\n",
       "      <td>5.png</td>\n",
       "      <td>1548</td>\n",
       "    </tr>\n",
       "    <tr>\n",
       "      <th>46</th>\n",
       "      <td>138</td>\n",
       "      <td>6.png</td>\n",
       "      <td>2654</td>\n",
       "    </tr>\n",
       "    <tr>\n",
       "      <th>47</th>\n",
       "      <td>76</td>\n",
       "      <td>7.png</td>\n",
       "      <td>1486</td>\n",
       "    </tr>\n",
       "    <tr>\n",
       "      <th>48</th>\n",
       "      <td>36</td>\n",
       "      <td>8.png</td>\n",
       "      <td>911</td>\n",
       "    </tr>\n",
       "    <tr>\n",
       "      <th>49</th>\n",
       "      <td>83</td>\n",
       "      <td>9.png</td>\n",
       "      <td>1606</td>\n",
       "    </tr>\n",
       "  </tbody>\n",
       "</table>\n",
       "</div>"
      ],
      "text/plain": [
       "    handCount               filename  egg_pixels\n",
       "0          38                  1.png         696\n",
       "1          78                 10.png        1416\n",
       "2          59                 11.png        1284\n",
       "3          80                 12.png        1663\n",
       "4          47                 13.png         993\n",
       "5          72                 14.png        1200\n",
       "6          49                 15.png         777\n",
       "7          67                 16.png        1528\n",
       "8          92                 17.png        1726\n",
       "9          30                 18.png         825\n",
       "10         67                 19.png        1717\n",
       "11         64                  2.png        1304\n",
       "12         96                 20.png        1968\n",
       "13          0  2016-lvp-tray1-a1.png          38\n",
       "14         67  2016-lvp-tray1-a2.png        1691\n",
       "15         70  2016-lvp-tray1-a3.png        1291\n",
       "16          0  2016-lvp-tray1-a4.png          47\n",
       "17         97  2016-lvp-tray1-b1.png        2368\n",
       "18          0  2016-lvp-tray1-b2.png          14\n",
       "19          0  2016-lvp-tray1-b3.png         129\n",
       "20         94  2016-lvp-tray1-b4.png        2127\n",
       "21          0  2016-lvp-tray2-g1.png         792\n",
       "22         90  2016-lvp-tray4-c4.png        1485\n",
       "23        105       20160920-4f1.png        2110\n",
       "24         19       20161006-3c1.png         371\n",
       "25         37       20161007-1d4.png         637\n",
       "26         39       20161025-4c3.png         511\n",
       "27         76       20161027-2f1.png        1124\n",
       "28         17       20161028-6d2.png         261\n",
       "29          0       20161031-1a2.png           0\n",
       "30         31       20161031-1a3.png         497\n",
       "31         22       20161031-1a4.png         318\n",
       "32         91       20161031-1b1.png        1887\n",
       "33          0       20161031-1b2.png           0\n",
       "34          0       20161031-1b3.png           0\n",
       "35         62       20161031-1c1.png         871\n",
       "36          0       20161031-1c2.png           0\n",
       "37         65       20161031-1c3.png         943\n",
       "38          0       20161031-1c4.png           0\n",
       "39         95       20161031-1d1.png        1917\n",
       "40         86       20161105-4a2.png         870\n",
       "41         52       20161108-3f4.png         738\n",
       "42         14       20162010-6c3.png         269\n",
       "43         43                  3.png         721\n",
       "44         71                  4.png        1533\n",
       "45         64                  5.png        1548\n",
       "46        138                  6.png        2654\n",
       "47         76                  7.png        1486\n",
       "48         36                  8.png         911\n",
       "49         83                  9.png        1606"
      ]
     },
     "execution_count": 23,
     "metadata": {},
     "output_type": "execute_result"
    }
   ],
   "source": [
    "pixel_count['handCount'] = pd.to_numeric(pixel_count['handCount'])\n",
    "pixel_count"
   ]
  },
  {
   "cell_type": "code",
   "execution_count": 24,
   "metadata": {
    "collapsed": false
   },
   "outputs": [
    {
     "data": {
      "text/plain": [
       "<matplotlib.axes._subplots.AxesSubplot at 0x137187160>"
      ]
     },
     "execution_count": 24,
     "metadata": {},
     "output_type": "execute_result"
    },
    {
     "data": {
      "image/png": "[encoded data removed]",
      "text/plain": [
       "<matplotlib.figure.Figure at 0x137187320>"
      ]
     },
     "metadata": {},
     "output_type": "display_data"
    }
   ],
   "source": [
    "pixel_count.plot(x='handCount',y='egg_pixels',kind='scatter')"
   ]
  },
  {
   "cell_type": "code",
   "execution_count": 25,
   "metadata": {
    "collapsed": false
   },
   "outputs": [],
   "source": [
    "pixel_count['ratio'] = pixel_count['egg_pixels'] / pixel_count['handCount']"
   ]
  },
  {
   "cell_type": "code",
   "execution_count": 26,
   "metadata": {
    "collapsed": false
   },
   "outputs": [
    {
     "data": {
      "text/plain": [
       "<matplotlib.axes._subplots.AxesSubplot at 0x137187048>"
      ]
     },
     "execution_count": 26,
     "metadata": {},
     "output_type": "execute_result"
    },
    {
     "data": {
      "image/png": "[encoded data removed]",
      "text/plain": [
       "<matplotlib.figure.Figure at 0x13720ee80>"
      ]
     },
     "metadata": {},
     "output_type": "display_data"
    }
   ],
   "source": [
    "pixel_count.plot(x='ratio',y='handCount',kind='scatter')"
   ]
  },
  {
   "cell_type": "raw",
   "metadata": {},
   "source": [
    "pixel_count"
   ]
  },
  {
   "cell_type": "code",
   "execution_count": null,
   "metadata": {
    "collapsed": true
   },
   "outputs": [],
   "source": []
  }
 ],
 "metadata": {
  "kernelspec": {
   "display_name": "Python 3",
   "language": "python",
   "name": "python3"
  },
  "language_info": {
   "codemirror_mode": {
    "name": "ipython",
    "version": 3
   },
   "file_extension": ".py",
   "mimetype": "text/x-python",
   "name": "python",
   "nbconvert_exporter": "python",
   "pygments_lexer": "ipython3",
   "version": "3.5.2"
  }
 },
 "nbformat": 4,
 "nbformat_minor": 1
}
