{
 "cells": [
  {
   "cell_type": "markdown",
   "metadata": {},
   "source": [
    "### egg counting\n",
    "#### updated 2016.09.09\n",
    "##### bmatthews@rockefeller.edu"
   ]
  },
  {
   "cell_type": "code",
   "execution_count": 6,
   "metadata": {
    "collapsed": false
   },
   "outputs": [],
   "source": [
    "### need a few libraries\n",
    "import cv2\n",
    "import numpy as np\n",
    "import os\n",
    "import pandas as pd"
   ]
  },
  {
   "cell_type": "markdown",
   "metadata": {},
   "source": [
    "### define a directory containing handcounted images and a .csv file with the handcounts\n",
    "\n",
    "Load a list of all .png images (except those starting with THRESH)"
   ]
  },
  {
   "cell_type": "code",
   "execution_count": 7,
   "metadata": {
    "collapsed": false
   },
   "outputs": [],
   "source": [
    "test_dir = '/Users/ben/bioinfo/github/eggCount/test_images/'\n",
    "os.chdir(test_dir)\n",
    "png_files = [f for f in os.listdir(test_dir) if (f.endswith('.png') and not f.startswith('THRESH'))]"
   ]
  },
  {
   "cell_type": "markdown",
   "metadata": {},
   "source": [
    "### define a dataframe to store our pixel counts and read in the hand counts"
   ]
  },
  {
   "cell_type": "code",
   "execution_count": 8,
   "metadata": {
    "collapsed": false
   },
   "outputs": [],
   "source": [
    "pixel_count = pd.DataFrame({'filename':png_files,'egg_pixels':[0] * len(png_files)}) \n",
    "handCount = pd.read_csv('hand.csv',header=None).transpose()\n",
    "handCount.columns = ['handCount','filename']\n",
    "pixel_count = pd.merge(handCount,pixel_count)"
   ]
  },
  {
   "cell_type": "markdown",
   "metadata": {},
   "source": [
    "### Defining a set of arrays that represent the min/max filters for (H)ue, (S)aturation and (V)alue thresholding"
   ]
  },
  {
   "cell_type": "code",
   "execution_count": 201,
   "metadata": {
    "collapsed": false
   },
   "outputs": [],
   "source": [
    "BEST_A = 183\n",
    "BEST_B = 46\n",
    "BEST_C = 201\n",
    "RANGE = 4\n",
    "STEP = 2\n",
    "\n",
    "minList = [np.array([0, 0, 0],np.uint8)]\n",
    "\n",
    "for a in range(0,1):\n",
    "    for b in range(0,1):\n",
    "        for c in range(0,255,5):\n",
    "            minList.append(np.array([a, b, c],np.uint8))\n",
    "\n",
    "\n",
    "maxList = [np.array([173, 46, 201],np.uint8)] * len(maxList)"
   ]
  },
  {
   "cell_type": "markdown",
   "metadata": {},
   "source": [
    "#### going through our filtering arrays, updating results with the 'best' correlation coefficients"
   ]
  },
  {
   "cell_type": "code",
   "execution_count": 196,
   "metadata": {
    "collapsed": false
   },
   "outputs": [
    {
     "name": "stdout",
     "output_type": "stream",
     "text": [
      "new best R squared value is 0.961112924983 min: [0 0 0] max: [173  46 201]\n",
      "new best R squared value is 0.961114860491 min: [ 0  0 80] max: [173  46 201]\n",
      "new best R squared value is 0.961455075468 min: [ 0  0 85] max: [173  46 201]\n",
      "new best R squared value is 0.962281841626 min: [ 0  0 90] max: [173  46 201]\n",
      "new best R squared value is 0.962855757401 min: [ 0  0 95] max: [173  46 201]\n",
      "new best R squared value is 0.963976046236 min: [  0   0 100] max: [173  46 201]\n",
      "new best R squared value is 0.965443732104 min: [  0   0 105] max: [173  46 201]\n",
      "new best R squared value is 0.966803710295 min: [  0   0 110] max: [173  46 201]\n",
      "new best R squared value is 0.966844555236 min: [  0   0 115] max: [173  46 201]\n"
     ]
    }
   ],
   "source": [
    "WINNER = 0\n",
    "\n",
    "for EGG_MIN, EGG_MAX in zip(minList, maxList):\n",
    "    for input_file in png_files:\n",
    "        current_working = cv2.imread(input_file)\n",
    "        hsv = cv2.cvtColor(current_working, cv2.COLOR_BGR2HSV)\n",
    "        frame_threshed = cv2.inRange(hsv, EGG_MIN, EGG_MAX)\n",
    "        cv2.imwrite('THRESH_' + input_file, frame_threshed)\n",
    "        pixel_count.loc[pixel_count['filename'] == input_file,'egg_pixels'] = cv2.countNonZero(frame_threshed)\n",
    "    \n",
    "    corr = pixel_count['handCount'].apply(int).corr(pixel_count['egg_pixels'].apply(int))\n",
    "    if(corr * corr > WINNER):\n",
    "        WINNER = corr * corr\n",
    "        print('new best R squared value is ' + str(corr * corr) + ' min: ' + str(EGG_MIN) + ' max: ' + str(EGG_MAX))"
   ]
  },
  {
   "cell_type": "markdown",
   "metadata": {},
   "source": [
    "### Define the meat of this\n",
    "#### run_directory() is a function that takes a list of image files and threshold min/max and does the thresholding and pixel counting, writing a .csv file in return"
   ]
  },
  {
   "cell_type": "code",
   "execution_count": 9,
   "metadata": {
    "collapsed": false
   },
   "outputs": [],
   "source": [
    "def run_directory(png_files, EGG_MIN, EGG_MAX):\n",
    "    pixel_count = pd.DataFrame({'filename':png_files,'egg_pixels':[0] * len(png_files)}) \n",
    "    for input_file in png_files:\n",
    "        current_working = cv2.imread(input_file)\n",
    "        hsv = cv2.cvtColor(current_working, cv2.COLOR_BGR2HSV)\n",
    "        frame_threshed = cv2.inRange(hsv, EGG_MIN, EGG_MAX)\n",
    "        cv2.imwrite('THRESH_' + input_file, frame_threshed)\n",
    "        pixel_count.loc[pixel_count['filename'] == input_file,'egg_pixels'] = cv2.countNonZero(frame_threshed)\n",
    "    \n",
    "    pixel_count.to_csv('pixel_counts.csv')"
   ]
  },
  {
   "cell_type": "markdown",
   "metadata": {},
   "source": [
    "### Now we run some experimental images"
   ]
  },
  {
   "cell_type": "code",
   "execution_count": 11,
   "metadata": {
    "collapsed": false
   },
   "outputs": [
    {
     "name": "stdout",
     "output_type": "stream",
     "text": [
      "working on directory /Users/ben/Dropbox/sdworkin2016/egg_photos/1molar_early_tests:\n",
      "\n",
      "working on directory /Users/ben/Dropbox/sdworkin2016/egg_photos/control_experiments:\n",
      "\n"
     ]
    },
    {
     "ename": "KeyboardInterrupt",
     "evalue": "",
     "output_type": "error",
     "traceback": [
      "\u001b[0;31m---------------------------------------------------------------------------\u001b[0m",
      "\u001b[0;31mKeyboardInterrupt\u001b[0m                         Traceback (most recent call last)",
      "\u001b[0;32m<ipython-input-11-fb95aef2a739>\u001b[0m in \u001b[0;36m<module>\u001b[0;34m()\u001b[0m\n\u001b[1;32m     19\u001b[0m     \u001b[0mpng_files\u001b[0m \u001b[0;34m=\u001b[0m \u001b[0;34m[\u001b[0m\u001b[0mf\u001b[0m \u001b[0;32mfor\u001b[0m \u001b[0mf\u001b[0m \u001b[0;32min\u001b[0m \u001b[0mos\u001b[0m\u001b[0;34m.\u001b[0m\u001b[0mlistdir\u001b[0m\u001b[0;34m(\u001b[0m\u001b[0mtest_dir\u001b[0m\u001b[0;34m)\u001b[0m \u001b[0;32mif\u001b[0m \u001b[0;34m(\u001b[0m\u001b[0mf\u001b[0m\u001b[0;34m.\u001b[0m\u001b[0mendswith\u001b[0m\u001b[0;34m(\u001b[0m\u001b[0;34m'.png'\u001b[0m\u001b[0;34m)\u001b[0m \u001b[0;32mand\u001b[0m \u001b[0;32mnot\u001b[0m \u001b[0mf\u001b[0m\u001b[0;34m.\u001b[0m\u001b[0mstartswith\u001b[0m\u001b[0;34m(\u001b[0m\u001b[0;34m'THRESH'\u001b[0m\u001b[0;34m)\u001b[0m\u001b[0;34m)\u001b[0m\u001b[0;34m]\u001b[0m\u001b[0;34m\u001b[0m\u001b[0m\n\u001b[1;32m     20\u001b[0m     \u001b[0mprint\u001b[0m\u001b[0;34m(\u001b[0m\u001b[0;34m'working on directory '\u001b[0m \u001b[0;34m+\u001b[0m \u001b[0mtest_dir\u001b[0m \u001b[0;34m+\u001b[0m \u001b[0;34m\":\\n\"\u001b[0m\u001b[0;34m)\u001b[0m\u001b[0;34m\u001b[0m\u001b[0m\n\u001b[0;32m---> 21\u001b[0;31m     \u001b[0mrun_directory\u001b[0m\u001b[0;34m(\u001b[0m\u001b[0mpng_files\u001b[0m\u001b[0;34m,\u001b[0m \u001b[0mEGG_MIN\u001b[0m\u001b[0;34m,\u001b[0m \u001b[0mEGG_MAX\u001b[0m\u001b[0;34m)\u001b[0m\u001b[0;34m\u001b[0m\u001b[0m\n\u001b[0m",
      "\u001b[0;32m<ipython-input-9-7e33e8167ff9>\u001b[0m in \u001b[0;36mrun_directory\u001b[0;34m(png_files, EGG_MIN, EGG_MAX)\u001b[0m\n\u001b[1;32m      2\u001b[0m     \u001b[0mpixel_count\u001b[0m \u001b[0;34m=\u001b[0m \u001b[0mpd\u001b[0m\u001b[0;34m.\u001b[0m\u001b[0mDataFrame\u001b[0m\u001b[0;34m(\u001b[0m\u001b[0;34m{\u001b[0m\u001b[0;34m'filename'\u001b[0m\u001b[0;34m:\u001b[0m\u001b[0mpng_files\u001b[0m\u001b[0;34m,\u001b[0m\u001b[0;34m'egg_pixels'\u001b[0m\u001b[0;34m:\u001b[0m\u001b[0;34m[\u001b[0m\u001b[0;36m0\u001b[0m\u001b[0;34m]\u001b[0m \u001b[0;34m*\u001b[0m \u001b[0mlen\u001b[0m\u001b[0;34m(\u001b[0m\u001b[0mpng_files\u001b[0m\u001b[0;34m)\u001b[0m\u001b[0;34m}\u001b[0m\u001b[0;34m)\u001b[0m\u001b[0;34m\u001b[0m\u001b[0m\n\u001b[1;32m      3\u001b[0m     \u001b[0;32mfor\u001b[0m \u001b[0minput_file\u001b[0m \u001b[0;32min\u001b[0m \u001b[0mpng_files\u001b[0m\u001b[0;34m:\u001b[0m\u001b[0;34m\u001b[0m\u001b[0m\n\u001b[0;32m----> 4\u001b[0;31m         \u001b[0mcurrent_working\u001b[0m \u001b[0;34m=\u001b[0m \u001b[0mcv2\u001b[0m\u001b[0;34m.\u001b[0m\u001b[0mimread\u001b[0m\u001b[0;34m(\u001b[0m\u001b[0minput_file\u001b[0m\u001b[0;34m)\u001b[0m\u001b[0;34m\u001b[0m\u001b[0m\n\u001b[0m\u001b[1;32m      5\u001b[0m         \u001b[0mhsv\u001b[0m \u001b[0;34m=\u001b[0m \u001b[0mcv2\u001b[0m\u001b[0;34m.\u001b[0m\u001b[0mcvtColor\u001b[0m\u001b[0;34m(\u001b[0m\u001b[0mcurrent_working\u001b[0m\u001b[0;34m,\u001b[0m \u001b[0mcv2\u001b[0m\u001b[0;34m.\u001b[0m\u001b[0mCOLOR_BGR2HSV\u001b[0m\u001b[0;34m)\u001b[0m\u001b[0;34m\u001b[0m\u001b[0m\n\u001b[1;32m      6\u001b[0m         \u001b[0mframe_threshed\u001b[0m \u001b[0;34m=\u001b[0m \u001b[0mcv2\u001b[0m\u001b[0;34m.\u001b[0m\u001b[0minRange\u001b[0m\u001b[0;34m(\u001b[0m\u001b[0mhsv\u001b[0m\u001b[0;34m,\u001b[0m \u001b[0mEGG_MIN\u001b[0m\u001b[0;34m,\u001b[0m \u001b[0mEGG_MAX\u001b[0m\u001b[0;34m)\u001b[0m\u001b[0;34m\u001b[0m\u001b[0m\n",
      "\u001b[0;31mKeyboardInterrupt\u001b[0m: "
     ]
    }
   ],
   "source": [
    "EGG_MIN = np.array([0, 0, 0],np.uint8)\n",
    "EGG_MAX = np.array([173, 46, 201],np.uint8)\n",
    "\n",
    "run_dirs = ['/Users/ben/Dropbox/sdworkin2016/egg_photos/control_experiments',\n",
    "           '/Users/ben/Dropbox/sdworkin2016/egg_photos/genotype_experiments/strain_A',\n",
    "           '/Users/ben/Dropbox/sdworkin2016/egg_photos/genotype_experiments/strain_B',\n",
    "           '/Users/ben/Dropbox/sdworkin2016/egg_photos/genotype_experiments/strain_C',\n",
    "           '/Users/ben/Dropbox/sdworkin2016/egg_photos/genotype_experiments/strain_D',\n",
    "           '/Users/ben/Dropbox/sdworkin2016/egg_photos/genotype_experiments/strain_E',\n",
    "           '/Users/ben/Dropbox/sdworkin2016/egg_photos/genotype_experiments/strain_F',\n",
    "           '/Users/ben/Dropbox/sdworkin2016/egg_photos/substrate_blind_test/a',\n",
    "           '/Users/ben/Dropbox/sdworkin2016/egg_photos/substrate_blind_test/b',\n",
    "           '/Users/ben/Dropbox/sdworkin2016/egg_photos/substrate_blind_test/c']\n",
    "\n",
    "for test_dir in run_dirs:\n",
    "    os.chdir(test_dir)\n",
    "    png_files = [f for f in os.listdir(test_dir) if (f.endswith('.png') and not f.startswith('THRESH'))]\n",
    "    print('working on directory ' + test_dir + \":\\n\")\n",
    "    run_directory(png_files, EGG_MIN, EGG_MAX)"
   ]
  },
  {
   "cell_type": "code",
   "execution_count": null,
   "metadata": {
    "collapsed": true
   },
   "outputs": [],
   "source": []
  }
 ],
 "metadata": {
  "kernelspec": {
   "display_name": "Python 3",
   "language": "python",
   "name": "python3"
  },
  "language_info": {
   "codemirror_mode": {
    "name": "ipython",
    "version": 3
   },
   "file_extension": ".py",
   "mimetype": "text/x-python",
   "name": "python",
   "nbconvert_exporter": "python",
   "pygments_lexer": "ipython3",
   "version": "3.5.2"
  }
 },
 "nbformat": 4,
 "nbformat_minor": 1
}
