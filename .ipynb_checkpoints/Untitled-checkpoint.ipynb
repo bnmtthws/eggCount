{
 "cells": [
  {
   "cell_type": "code",
   "execution_count": 1,
   "metadata": {
    "collapsed": true
   },
   "outputs": [],
   "source": [
    "library(ggplot2)\n",
    "library(plyr)\n",
    "library(reshape2)"
   ]
  },
  {
   "cell_type": "code",
   "execution_count": 3,
   "metadata": {
    "collapsed": true
   },
   "outputs": [],
   "source": [
    "eggData_20160920 <- read.csv('~/Dropbox/stephanie marcus rotation//eggCounts//20160920/pixel_counts_20160920.csv')"
   ]
  },
  {
   "cell_type": "code",
   "execution_count": 5,
   "metadata": {
    "collapsed": false
   },
   "outputs": [],
   "source": [
    "eggData_20160920.filtered <- eggData_20160920[eggData_20160920$total.pixels > 150,]\n",
    "\n",
    "preference_plot.filtered.jitter <- ggplot(data=eggData_20160920.filtered,aes(x=genotype,y=pref,colour=pixels)) + geom_jitter(width=0.5,alpha=0.5)\n",
    "preference_plot.filtered.violin <- ggplot(data=eggData_20160920.filtered,aes(x=genotype,y=pref,colour=pixels)) + geom_violin() + geom_jitter(width=0.5,alpha=0.5)"
   ]
  },
  {
   "cell_type": "code",
   "execution_count": null,
   "metadata": {
    "collapsed": true
   },
   "outputs": [],
   "source": []
  }
 ],
 "metadata": {
  "kernelspec": {
   "display_name": "R",
   "language": "",
   "name": "ir"
  },
  "language_info": {
   "codemirror_mode": "r",
   "file_extension": ".r",
   "mimetype": "text/x-r-source",
   "name": "R",
   "pygments_lexer": "r",
   "version": "3.3.1"
  }
 },
 "nbformat": 4,
 "nbformat_minor": 1
}
