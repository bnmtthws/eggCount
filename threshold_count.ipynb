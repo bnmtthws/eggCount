{
 "cells": [
  {
   "cell_type": "markdown",
   "metadata": {},
   "source": [
    "### egg counting\n",
    "#### updated 2016.09.09\n",
    "##### bmatthews@rockefeller.edu"
   ]
  },
  {
   "cell_type": "code",
   "execution_count": 1,
   "metadata": {
    "collapsed": false
   },
   "outputs": [],
   "source": [
    "### need a few libraries\n",
    "import cv2\n",
    "import numpy as np\n",
    "import os\n",
    "import pandas as pd"
   ]
  },
  {
   "cell_type": "markdown",
   "metadata": {},
   "source": [
    "### define a directory containing handcounted images and a .csv file with the handcounts\n",
    "\n",
    "Load a list of all .png images (except those starting with THRESH)"
   ]
  },
  {
   "cell_type": "code",
   "execution_count": 7,
   "metadata": {
    "collapsed": false
   },
   "outputs": [],
   "source": [
    "test_dir = '/Users/ben/bioinfo/github/eggCount/test_images/'\n",
    "os.chdir(test_dir)\n",
    "png_files = [f for f in os.listdir(test_dir) if (f.endswith('.png') and not f.startswith('THRESH'))]"
   ]
  },
  {
   "cell_type": "markdown",
   "metadata": {},
   "source": [
    "### define a dataframe to store our pixel counts and read in the hand counts"
   ]
  },
  {
   "cell_type": "code",
   "execution_count": 8,
   "metadata": {
    "collapsed": false
   },
   "outputs": [],
   "source": [
    "pixel_count = pd.DataFrame({'filename':png_files,'egg_pixels':[0] * len(png_files)}) \n",
    "handCount = pd.read_csv('hand.csv',header=None).transpose()\n",
    "handCount.columns = ['handCount','filename']\n",
    "pixel_count = pd.merge(handCount,pixel_count)"
   ]
  },
  {
   "cell_type": "markdown",
   "metadata": {},
   "source": [
    "### Defining a set of arrays that represent the min/max filters for (H)ue, (S)aturation and (V)alue thresholding"
   ]
  },
  {
   "cell_type": "code",
   "execution_count": 201,
   "metadata": {
    "collapsed": false
   },
   "outputs": [],
   "source": [
    "BEST_A = 183\n",
    "BEST_B = 46\n",
    "BEST_C = 201\n",
    "RANGE = 4\n",
    "STEP = 2\n",
    "\n",
    "minList = [np.array([0, 0, 0],np.uint8)]\n",
    "\n",
    "for a in range(0,1):\n",
    "    for b in range(0,1):\n",
    "        for c in range(0,255,5):\n",
    "            minList.append(np.array([a, b, c],np.uint8))\n",
    "\n",
    "\n",
    "maxList = [np.array([173, 46, 201],np.uint8)] * len(maxList)"
   ]
  },
  {
   "cell_type": "markdown",
   "metadata": {},
   "source": [
    "#### going through our filtering arrays, updating results with the 'best' correlation coefficients"
   ]
  },
  {
   "cell_type": "code",
   "execution_count": 196,
   "metadata": {
    "collapsed": false
   },
   "outputs": [
    {
     "name": "stdout",
     "output_type": "stream",
     "text": [
      "new best R squared value is 0.961112924983 min: [0 0 0] max: [173  46 201]\n",
      "new best R squared value is 0.961114860491 min: [ 0  0 80] max: [173  46 201]\n",
      "new best R squared value is 0.961455075468 min: [ 0  0 85] max: [173  46 201]\n",
      "new best R squared value is 0.962281841626 min: [ 0  0 90] max: [173  46 201]\n",
      "new best R squared value is 0.962855757401 min: [ 0  0 95] max: [173  46 201]\n",
      "new best R squared value is 0.963976046236 min: [  0   0 100] max: [173  46 201]\n",
      "new best R squared value is 0.965443732104 min: [  0   0 105] max: [173  46 201]\n",
      "new best R squared value is 0.966803710295 min: [  0   0 110] max: [173  46 201]\n",
      "new best R squared value is 0.966844555236 min: [  0   0 115] max: [173  46 201]\n"
     ]
    }
   ],
   "source": [
    "WINNER = 0\n",
    "\n",
    "for EGG_MIN, EGG_MAX in zip(minList, maxList):\n",
    "    for input_file in png_files:\n",
    "        current_working = cv2.imread(input_file)\n",
    "        hsv = cv2.cvtColor(current_working, cv2.COLOR_BGR2HSV)\n",
    "        frame_threshed = cv2.inRange(hsv, EGG_MIN, EGG_MAX)\n",
    "        cv2.imwrite('THRESH_' + input_file, frame_threshed)\n",
    "        pixel_count.loc[pixel_count['filename'] == input_file,'egg_pixels'] = cv2.countNonZero(frame_threshed)\n",
    "    \n",
    "    corr = pixel_count['handCount'].apply(int).corr(pixel_count['egg_pixels'].apply(int))\n",
    "    if(corr * corr > WINNER):\n",
    "        WINNER = corr * corr\n",
    "        print('new best R squared value is ' + str(corr * corr) + ' min: ' + str(EGG_MIN) + ' max: ' + str(EGG_MAX))"
   ]
  },
  {
   "cell_type": "markdown",
   "metadata": {},
   "source": [
    "### Define the meat of this\n",
    "#### run_directory() is a function that takes a list of image files and threshold min/max and does the thresholding and pixel counting, writing a .csv file in return"
   ]
  },
  {
   "cell_type": "code",
   "execution_count": 2,
   "metadata": {
    "collapsed": false
   },
   "outputs": [],
   "source": [
    "def run_directory(png_files, EGG_MIN, EGG_MAX):\n",
    "    pixel_count = pd.DataFrame({'filename':png_files,'egg_pixels':[0] * len(png_files)}) \n",
    "    for input_file in png_files:\n",
    "        current_working = cv2.imread(input_file)\n",
    "        hsv = cv2.cvtColor(current_working, cv2.COLOR_BGR2HSV)\n",
    "        frame_threshed = cv2.inRange(hsv, EGG_MIN, EGG_MAX)\n",
    "        cv2.imwrite('THRESH_' + input_file, frame_threshed)\n",
    "        pixel_count.loc[pixel_count['filename'] == input_file,'egg_pixels'] = cv2.countNonZero(frame_threshed)\n",
    "    \n",
    "    pixel_count.to_csv('pixel_counts.csv')"
   ]
  },
  {
   "cell_type": "markdown",
   "metadata": {},
   "source": [
    "### Now we run some experimental images"
   ]
  },
  {
   "cell_type": "code",
   "execution_count": 13,
   "metadata": {
    "collapsed": false
   },
   "outputs": [
    {
     "name": "stdout",
     "output_type": "stream",
     "text": [
      "working on directory /Users/ben/Dropbox/sdworkin2016/egg_photos/control_experiments:\n",
      "\n",
      "working on directory /Users/ben/Dropbox/sdworkin2016/egg_photos/genotype_experiments/strain_A:\n",
      "\n",
      "working on directory /Users/ben/Dropbox/sdworkin2016/egg_photos/genotype_experiments/strain_B:\n",
      "\n",
      "working on directory /Users/ben/Dropbox/sdworkin2016/egg_photos/genotype_experiments/strain_C:\n",
      "\n",
      "working on directory /Users/ben/Dropbox/sdworkin2016/egg_photos/genotype_experiments/strain_D:\n",
      "\n",
      "working on directory /Users/ben/Dropbox/sdworkin2016/egg_photos/genotype_experiments/strain_E:\n",
      "\n",
      "working on directory /Users/ben/Dropbox/sdworkin2016/egg_photos/genotype_experiments/strain_F:\n",
      "\n",
      "working on directory /Users/ben/Dropbox/sdworkin2016/egg_photos/substrate_blind_test/a:\n",
      "\n",
      "working on directory /Users/ben/Dropbox/sdworkin2016/egg_photos/substrate_blind_test/b:\n",
      "\n",
      "working on directory /Users/ben/Dropbox/sdworkin2016/egg_photos/substrate_blind_test/c:\n",
      "\n"
     ]
    }
   ],
   "source": [
    "EGG_MIN = np.array([0, 0, 0],np.uint8)\n",
    "EGG_MAX = np.array([173, 46, 201],np.uint8)\n",
    "\n",
    "run_dirs = ['/Users/ben/Dropbox/sdworkin2016/egg_photos/control_experiments',\n",
    "           '/Users/ben/Dropbox/sdworkin2016/egg_photos/genotype_experiments/strain_A',\n",
    "           '/Users/ben/Dropbox/sdworkin2016/egg_photos/genotype_experiments/strain_B',\n",
    "           '/Users/ben/Dropbox/sdworkin2016/egg_photos/genotype_experiments/strain_C',\n",
    "           '/Users/ben/Dropbox/sdworkin2016/egg_photos/genotype_experiments/strain_D',\n",
    "           '/Users/ben/Dropbox/sdworkin2016/egg_photos/genotype_experiments/strain_E',\n",
    "           '/Users/ben/Dropbox/sdworkin2016/egg_photos/genotype_experiments/strain_F',\n",
    "           '/Users/ben/Dropbox/sdworkin2016/egg_photos/substrate_blind_test/a',\n",
    "           '/Users/ben/Dropbox/sdworkin2016/egg_photos/substrate_blind_test/b',\n",
    "           '/Users/ben/Dropbox/sdworkin2016/egg_photos/substrate_blind_test/c']\n",
    "\n",
    "for test_dir in run_dirs:\n",
    "    os.chdir(test_dir)\n",
    "    png_files = [f for f in os.listdir(test_dir) if (f.endswith('.png') and not f.startswith('THRESH'))]\n",
    "    print('working on directory ' + test_dir + \":\\n\")\n",
    "    run_directory(png_files, EGG_MIN, EGG_MAX)"
   ]
  },
  {
   "cell_type": "code",
   "execution_count": 3,
   "metadata": {
    "collapsed": false
   },
   "outputs": [
    {
     "name": "stdout",
     "output_type": "stream",
     "text": [
      "working on directory /Users/ben/Dropbox/sdworkin2016/egg_photos/genotype_150mOsm/A:\n",
      "\n",
      "working on directory /Users/ben/Dropbox/sdworkin2016/egg_photos/genotype_150mOsm/B:\n",
      "\n",
      "working on directory /Users/ben/Dropbox/sdworkin2016/egg_photos/genotype_150mOsm/C:\n",
      "\n"
     ]
    }
   ],
   "source": [
    "EGG_MIN = np.array([0, 0, 0],np.uint8)\n",
    "EGG_MAX = np.array([173, 46, 201],np.uint8)\n",
    "\n",
    "run_dirs = ['/Users/ben/Dropbox/sdworkin2016/egg_photos/genotype_150mOsm/A',\n",
    "           '/Users/ben/Dropbox/sdworkin2016/egg_photos/genotype_150mOsm/B',\n",
    "           '/Users/ben/Dropbox/sdworkin2016/egg_photos/genotype_150mOsm/C']\n",
    "\n",
    "for test_dir in run_dirs:\n",
    "    os.chdir(test_dir)\n",
    "    png_files = [f for f in os.listdir(test_dir) if (f.endswith('.png') and not f.startswith('THRESH'))]\n",
    "    print('working on directory ' + test_dir + \":\\n\")\n",
    "    run_directory(png_files, EGG_MIN, EGG_MAX)"
   ]
  },
  {
   "cell_type": "code",
   "execution_count": null,
   "metadata": {
    "collapsed": true
   },
   "outputs": [],
   "source": []
  }
 ],
 "metadata": {
  "kernelspec": {
   "display_name": "Python 3",
   "language": "python",
   "name": "python3"
  },
  "language_info": {
   "codemirror_mode": {
    "name": "ipython",
    "version": 3
   },
   "file_extension": ".py",
   "mimetype": "text/x-python",
   "name": "python",
   "nbconvert_exporter": "python",
   "pygments_lexer": "ipython3",
   "version": "3.5.2"
  }
 },
 "nbformat": 4,
 "nbformat_minor": 1
}
